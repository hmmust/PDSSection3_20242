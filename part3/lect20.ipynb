{
 "cells": [
  {
   "cell_type": "code",
   "execution_count": 2,
   "metadata": {},
   "outputs": [],
   "source": [
    "import pandas as pd\n",
    "import numpy as np"
   ]
  },
  {
   "cell_type": "code",
   "execution_count": 4,
   "metadata": {},
   "outputs": [],
   "source": [
    "student_df = pd.read_csv('students.csv')\n"
   ]
  },
  {
   "cell_type": "code",
   "execution_count": 5,
   "metadata": {},
   "outputs": [
    {
     "name": "stdout",
     "output_type": "stream",
     "text": [
      "       Id             Name Major  Age    Year   GPA\n",
      "0   20201        Rama Saed    CS   21  2017.0  3.00\n",
      "1   20223      Amjad Ahmad    SE   17  2017.0  3.20\n",
      "2   20215      Rahaf Murad    SE   22  2019.0  3.50\n",
      "3   20229     Bashar Zahid    IS   23     NaN  3.90\n",
      "4   20207     Raghad Nidal    IS   20  2017.0  3.50\n",
      "5   20209     Reem Mahmoud    DS   19  2019.0  2.95\n",
      "6   20204  Fahid Abedullah    SE   23     NaN  3.54\n",
      "7   20221    Mohammad Zaid    DS   22  2018.0  3.40\n",
      "8   20208    Waleed Ashraf   DSS   20  2016.0  2.80\n",
      "9   20218   Abdullah Yehya    IS   20  2018.0  2.56\n",
      "10  20231    Shahid Masoud    SE   21     NaN  2.70\n",
      "11  20235     Hossam Adnan    DS   22  2016.0  3.10\n"
     ]
    }
   ],
   "source": [
    "print(student_df)\n"
   ]
  },
  {
   "cell_type": "code",
   "execution_count": 6,
   "metadata": {},
   "outputs": [
    {
     "name": "stdout",
     "output_type": "stream",
     "text": [
      "<class 'pandas.core.frame.DataFrame'>\n",
      "RangeIndex: 12 entries, 0 to 11\n",
      "Data columns (total 6 columns):\n",
      " #   Column  Non-Null Count  Dtype  \n",
      "---  ------  --------------  -----  \n",
      " 0   Id      12 non-null     int64  \n",
      " 1   Name    12 non-null     object \n",
      " 2   Major   12 non-null     object \n",
      " 3   Age     12 non-null     int64  \n",
      " 4   Year    9 non-null      float64\n",
      " 5   GPA     12 non-null     float64\n",
      "dtypes: float64(2), int64(2), object(2)\n",
      "memory usage: 708.0+ bytes\n",
      "None\n"
     ]
    }
   ],
   "source": [
    "print(student_df.info())"
   ]
  }
 ],
 "metadata": {
  "kernelspec": {
   "display_name": "venv",
   "language": "python",
   "name": "python3"
  },
  "language_info": {
   "codemirror_mode": {
    "name": "ipython",
    "version": 3
   },
   "file_extension": ".py",
   "mimetype": "text/x-python",
   "name": "python",
   "nbconvert_exporter": "python",
   "pygments_lexer": "ipython3",
   "version": "3.12.5"
  }
 },
 "nbformat": 4,
 "nbformat_minor": 2
}
